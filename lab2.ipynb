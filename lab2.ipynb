{
 "cells": [
  {
   "cell_type": "code",
   "execution_count": 8,
   "metadata": {},
   "outputs": [],
   "source": [
    "# Import python packages\n",
    "from azure.ai.projects import AIProjectClient\n",
    "from azure.identity import DefaultAzureCredential\n",
    "from dotenv import load_dotenv\n",
    "import os\n",
    "\n",
    "#Lab 2 specific imports\n",
    "from azure.ai.projects.models import CodeInterpreterTool\n",
    "from typing import Any\n",
    "from pathlib import Path\n"
   ]
  },
  {
   "cell_type": "code",
   "execution_count": 9,
   "metadata": {},
   "outputs": [
    {
     "name": "stdout",
     "output_type": "stream",
     "text": [
      "eastus.api.azureml.ms;4c61dc39-311c-43a4-bd17-4b18ec045427;rg-agent;project-demo-v2zb\n",
      "gpt-4o-mini\n"
     ]
    }
   ],
   "source": [
    "# Load environment variables from .env file\n",
    "load_dotenv()\n",
    "\n",
    "project_connection_string = os.getenv(\"AIPROJECT_CONNECTION_STRING\")\n",
    "model = os.getenv(\"CHAT_MODEL\")\n",
    "\n",
    "print(project_connection_string)\n",
    "print(model)"
   ]
  },
  {
   "cell_type": "code",
   "execution_count": 10,
   "metadata": {},
   "outputs": [],
   "source": [
    "# connect to the AI project \n",
    "project_client = AIProjectClient.from_connection_string(\n",
    "    conn_str=project_connection_string, credential=DefaultAzureCredential()\n",
    ")"
   ]
  },
  {
   "cell_type": "code",
   "execution_count": null,
   "metadata": {},
   "outputs": [
    {
     "name": "stdout",
     "output_type": "stream",
     "text": [
      "Created agent, agent ID: asst_KNBlkeaG7HBQIJSSFzdumYma\n",
      "Created thread, thread ID: thread_oYRuZo8gIIHduy5Ym2AsQgE5\n",
      "Created message, message ID: msg_VCcj5Ikv6wnSDkZ8wiFv5Uk4\n",
      "Run finished with status: RunStatus.COMPLETED\n",
      "Messages: {'object': 'list', 'data': [{'id': 'msg_exjzsBgl3dZnj81MpwhxFG78', 'object': 'thread.message', 'created_at': 1738163180, 'assistant_id': 'asst_KNBlkeaG7HBQIJSSFzdumYma', 'thread_id': 'thread_oYRuZo8gIIHduy5Ym2AsQgE5', 'run_id': 'run_yrwiOMyYcbmzF2Vqcjtr0Fnp', 'role': 'assistant', 'content': [{'type': 'image_file', 'image_file': {'file_id': 'assistant-q3GfmzHydzkUMd8dDBlkm7HF'}}, {'type': 'text', 'text': {'value': 'I have created the bar chart for the health plan comparison. You can download it using the link below:\\n\\n[Download health-plan-comparision.png](sandbox:/mnt/data/health-plan-comparision.png)', 'annotations': [{'type': 'file_path', 'text': 'sandbox:/mnt/data/health-plan-comparision.png', 'start_index': 143, 'end_index': 188, 'file_path': {'file_id': 'assistant-z2ycYuQbd1hm7bzlyIIPH9uA'}}]}}], 'attachments': [{'file_id': 'assistant-z2ycYuQbd1hm7bzlyIIPH9uA', 'tools': [{'type': 'code_interpreter'}]}], 'metadata': {}}, {'id': 'msg_VCcj5Ikv6wnSDkZ8wiFv5Uk4', 'object': 'thread.message', 'created_at': 1738163172, 'assistant_id': None, 'thread_id': 'thread_oYRuZo8gIIHduy5Ym2AsQgE5', 'run_id': None, 'role': 'user', 'content': [{'type': 'text', 'text': {'value': 'Could you please create a bar chart for the using the following data and         provide the file to me? Name the file as health-plan-comparision.png.         Here is the data:         Provider\\tMonthly Premium\\tDeductible\\tOut-of-Pocket Limit         Northwind\\t$300\\t\\t$1,500\\t\\t$6,000         Aetna\\t\\t$350\\t\\t$1,000\\t\\t$5,500         United\\t\\t$250\\t\\t$2,000\\t\\t$7,000         Premera\\t\\t$200\\t\\t$2,200\\t\\t$6,500     ', 'annotations': []}}], 'attachments': [], 'metadata': {}}], 'first_id': 'msg_exjzsBgl3dZnj81MpwhxFG78', 'last_id': 'msg_VCcj5Ikv6wnSDkZ8wiFv5Uk4', 'has_more': False}\n",
      "Last Message: I have created the bar chart for the health plan comparison. You can download it using the link below:\n",
      "\n",
      "[Download health-plan-comparision.png](sandbox:/mnt/data/health-plan-comparision.png)\n",
      "Image File ID: assistant-q3GfmzHydzkUMd8dDBlkm7HF\n",
      "Saved image file to: c:\\TechLocal2\\azure-ai-agents-labs\\assistant-q3GfmzHydzkUMd8dDBlkm7HF_image_file.png\n",
      "File Paths:\n",
      "Type: file_path\n",
      "Text: sandbox:/mnt/data/health-plan-comparision.png\n",
      "File ID: assistant-z2ycYuQbd1hm7bzlyIIPH9uA\n",
      "Start Index: 143\n",
      "End Index: 188\n"
     ]
    }
   ],
   "source": [
    "with project_client:\n",
    "    # Create an instance of the CodeInterpreterTool\n",
    "    code_interpreter = CodeInterpreterTool()\n",
    "\n",
    "    # The CodeInterpreterTool needs to be included in creation of the agent\n",
    "    agent = project_client.agents.create_agent(\n",
    "        model=\"gpt-4o-mini\",\n",
    "        name=\"my-agent-barchart\",\n",
    "        instructions=\"You are helpful agent\",\n",
    "        tools=code_interpreter.definitions,\n",
    "        tool_resources=code_interpreter.resources,\n",
    "    )\n",
    "    print(f\"Created agent, agent ID: {agent.id}\")\n",
    "\n",
    "    # Create a thread\n",
    "    thread = project_client.agents.create_thread()\n",
    "    print(f\"Created thread, thread ID: {thread.id}\")\n",
    "\n",
    "    prompt = \"Could you please create a bar chart for the using the following data and \\\n",
    "        provide the file to me? Name the file as health-plan-comparision.png. \\\n",
    "        Here is the data: \\\n",
    "        Provider\t    Monthly Premium\tDeductible\tOut-of-Pocket Limit \\\n",
    "        Northwind\t    $300\t\t$1,500\t\t$6,000 \\\n",
    "        Aetna\t\t    $350\t\t$1,000\t\t$5,500 \\\n",
    "        United Health\t$250\t\t$2,000\t\t$7,000 \\\n",
    "        Premera\t\t    $200\t\t$2,200\t\t$6,500 \\\n",
    "    \"\n",
    "    \n",
    "    # Create a message\n",
    "    message = project_client.agents.create_message(\n",
    "        thread_id=thread.id,\n",
    "        role=\"user\",\n",
    "        content=prompt,\n",
    "    )\n",
    "    print(f\"Created message, message ID: {message.id}\")\n",
    "\n",
    "    # Run the agent\n",
    "    run = project_client.agents.create_and_process_run(thread_id=thread.id, assistant_id=agent.id)\n",
    "    print(f\"Run finished with status: {run.status}\")\n",
    "\n",
    "    if run.status == \"failed\":\n",
    "        # Check if you got \"Rate limit is exceeded.\", then you want to get more quota\n",
    "        print(f\"Run failed: {run.last_error}\")\n",
    "\n",
    "    # Get messages from the thread\n",
    "    messages = project_client.agents.list_messages(thread_id=thread.id)\n",
    "    print(f\"Messages: {messages}\")\n",
    "\n",
    "    # Get the last message from the sender\n",
    "    last_msg = messages.get_last_text_message_by_sender(\"assistant\")\n",
    "    if last_msg:\n",
    "        print(f\"Last Message: {last_msg.text.value}\")\n",
    "\n",
    "    # Generate an image file for the bar chart\n",
    "    for image_content in messages.image_contents:\n",
    "        print(f\"Image File ID: {image_content.image_file.file_id}\")\n",
    "        file_name = f\"{image_content.image_file.file_id}_image_file.png\"\n",
    "        project_client.agents.save_file(file_id=image_content.image_file.file_id, file_name=file_name)\n",
    "        print(f\"Saved image file to: {Path.cwd() / file_name}\")\n",
    "\n",
    "    # Print the file path(s) from the messages\n",
    "    for file_path_annotation in messages.file_path_annotations:\n",
    "        print(f\"File Paths:\")\n",
    "        print(f\"Type: {file_path_annotation.type}\")\n",
    "        print(f\"Text: {file_path_annotation.text}\")\n",
    "        print(f\"File ID: {file_path_annotation.file_path.file_id}\")\n",
    "        print(f\"Start Index: {file_path_annotation.start_index}\")\n",
    "        print(f\"End Index: {file_path_annotation.end_index}\")\n",
    "        project_client.agents.save_file(file_id=file_path_annotation.file_path.file_id, file_name=Path(file_path_annotation.text).name)\n",
    "\n",
    "    # Delete the agent once done\n",
    "    #project_client.agents.delete_agent(agent.id)\n",
    "    #print(\"Deleted agent\")"
   ]
  }
 ],
 "metadata": {
  "kernelspec": {
   "display_name": "base",
   "language": "python",
   "name": "python3"
  },
  "language_info": {
   "codemirror_mode": {
    "name": "ipython",
    "version": 3
   },
   "file_extension": ".py",
   "mimetype": "text/x-python",
   "name": "python",
   "nbconvert_exporter": "python",
   "pygments_lexer": "ipython3",
   "version": "3.11.7"
  }
 },
 "nbformat": 4,
 "nbformat_minor": 2
}
